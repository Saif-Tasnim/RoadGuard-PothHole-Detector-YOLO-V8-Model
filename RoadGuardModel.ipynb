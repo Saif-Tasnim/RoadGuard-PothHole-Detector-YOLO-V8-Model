{
  "nbformat": 4,
  "nbformat_minor": 0,
  "metadata": {
    "colab": {
      "provenance": [],
      "gpuType": "T4"
    },
    "kernelspec": {
      "name": "python3",
      "display_name": "Python 3"
    },
    "language_info": {
      "name": "python"
    },
    "accelerator": "GPU"
  },
  "cells": [
    {
      "cell_type": "code",
      "execution_count": null,
      "metadata": {
        "id": "8tV0mF-Tl3hq"
      },
      "outputs": [],
      "source": [
        "!pip install ultralytics\n",
        "!pip install opencv-python"
      ]
    },
    {
      "cell_type": "markdown",
      "source": [
        "## Load the datasets"
      ],
      "metadata": {
        "id": "sfIvXFGwvYTw"
      }
    },
    {
      "cell_type": "code",
      "source": [
        "from google.colab import files\n",
        "import zipfile\n",
        "\n",
        "uploaded = files.upload()\n",
        "\n",
        "dataset_zip = 'road_guard.zip'\n",
        "with zipfile.ZipFile(dataset_zip, 'r') as zip_ref:\n",
        "    zip_ref.extractall('/content/dataset')\n"
      ],
      "metadata": {
        "id": "vdY1vyHHvXTM"
      },
      "execution_count": null,
      "outputs": []
    },
    {
      "cell_type": "markdown",
      "source": [
        "## Import the YOLO Model"
      ],
      "metadata": {
        "id": "y0kzaZ1KwNUu"
      }
    },
    {
      "cell_type": "code",
      "source": [
        "from ultralytics import YOLO\n",
        "\n",
        "model = YOLO('yolov8n.pt')\n",
        "model.train(data='/content/dataset/data.yaml',\n",
        "            epochs=50,\n",
        "            imgsz=640,\n",
        "            batch=16,\n",
        "            name='yolo_custom')\n"
      ],
      "metadata": {
        "id": "xSjGbLhBvjm5"
      },
      "execution_count": null,
      "outputs": []
    },
    {
      "cell_type": "markdown",
      "source": [
        "## Evaluted the Model"
      ],
      "metadata": {
        "id": "A2mC-fmBwR1b"
      }
    },
    {
      "cell_type": "code",
      "source": [
        "results = model.val()\n",
        "\n",
        "y_true = results.classification['gt']\n",
        "y_pred = results.classification['pred']\n"
      ],
      "metadata": {
        "id": "Rmz_fB2Tvwm0"
      },
      "execution_count": null,
      "outputs": []
    },
    {
      "cell_type": "markdown",
      "source": [
        "## Confussion Matrix"
      ],
      "metadata": {
        "id": "41bRDEPZwXy0"
      }
    },
    {
      "cell_type": "code",
      "source": [
        "from sklearn.metrics import confusion_matrix\n",
        "import seaborn as sns\n",
        "import matplotlib.pyplot as plt\n",
        "\n",
        "conf_matrix = confusion_matrix(y_true, y_pred)\n",
        "\n",
        "plt.figure(figsize=(8, 6))\n",
        "sns.heatmap(conf_matrix, annot=True, fmt='d', cmap='Blues')\n",
        "plt.title('Confusion Matrix for YOLOv8 Predictions')\n",
        "plt.ylabel('True Label')\n",
        "plt.xlabel('Predicted Label')\n",
        "plt.show()\n"
      ],
      "metadata": {
        "id": "iyc8q5pbwBPG"
      },
      "execution_count": null,
      "outputs": []
    },
    {
      "cell_type": "markdown",
      "source": [
        "## Print the accuracy"
      ],
      "metadata": {
        "id": "3SHUZHEAwcNb"
      }
    },
    {
      "cell_type": "code",
      "source": [
        "accuracy = results.box['accuracy']\n",
        "print(f\"Accuracy: {accuracy}\")"
      ],
      "metadata": {
        "id": "qJmXyQK9wHyX"
      },
      "execution_count": null,
      "outputs": []
    }
  ]
}